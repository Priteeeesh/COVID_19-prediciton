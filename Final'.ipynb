{
 "cells": [
  {
   "cell_type": "code",
   "execution_count": 2,
   "metadata": {},
   "outputs": [
    {
     "name": "stdout",
     "output_type": "stream",
     "text": [
      "Epoch 1/100\n",
      " - 2s - loss: 0.0102\n",
      "Epoch 2/100\n",
      " - 0s - loss: 0.0080\n",
      "Epoch 3/100\n",
      " - 0s - loss: 0.0073\n",
      "Epoch 4/100\n",
      " - 0s - loss: 0.0064\n",
      "Epoch 5/100\n",
      " - 0s - loss: 0.0056\n",
      "Epoch 6/100\n",
      " - 0s - loss: 0.0049\n",
      "Epoch 7/100\n",
      " - 0s - loss: 0.0042\n",
      "Epoch 8/100\n",
      " - 0s - loss: 0.0033\n",
      "Epoch 9/100\n",
      " - 0s - loss: 0.0025\n",
      "Epoch 10/100\n",
      " - 0s - loss: 0.0018\n",
      "Epoch 11/100\n",
      " - 0s - loss: 0.0012\n",
      "Epoch 12/100\n",
      " - 0s - loss: 6.8214e-04\n",
      "Epoch 13/100\n",
      " - 0s - loss: 3.4008e-04\n",
      "Epoch 14/100\n",
      " - 0s - loss: 1.5679e-04\n",
      "Epoch 15/100\n",
      " - 0s - loss: 6.3167e-05\n",
      "Epoch 16/100\n",
      " - 0s - loss: 2.8709e-05\n",
      "Epoch 17/100\n",
      " - 0s - loss: 1.4431e-05\n",
      "Epoch 18/100\n",
      " - 0s - loss: 1.1608e-05\n",
      "Epoch 19/100\n",
      " - 0s - loss: 1.0041e-05\n",
      "Epoch 20/100\n",
      " - 0s - loss: 9.9085e-06\n",
      "Epoch 21/100\n",
      " - 0s - loss: 1.0481e-05\n",
      "Epoch 22/100\n",
      " - 0s - loss: 1.0246e-05\n",
      "Epoch 23/100\n",
      " - 0s - loss: 9.4777e-06\n",
      "Epoch 24/100\n",
      " - 0s - loss: 1.1199e-05\n",
      "Epoch 25/100\n",
      " - 0s - loss: 9.5778e-06\n",
      "Epoch 26/100\n",
      " - 0s - loss: 9.9405e-06\n",
      "Epoch 27/100\n",
      " - 0s - loss: 9.8523e-06\n",
      "Epoch 28/100\n",
      " - 0s - loss: 1.0010e-05\n",
      "Epoch 29/100\n",
      " - 0s - loss: 9.6441e-06\n",
      "Epoch 30/100\n",
      " - 0s - loss: 1.0361e-05\n",
      "Epoch 31/100\n",
      " - 0s - loss: 9.9490e-06\n",
      "Epoch 32/100\n",
      " - 0s - loss: 9.5173e-06\n",
      "Epoch 33/100\n",
      " - 0s - loss: 1.0096e-05\n",
      "Epoch 34/100\n",
      " - 0s - loss: 8.4218e-06\n",
      "Epoch 35/100\n",
      " - 0s - loss: 1.0665e-05\n",
      "Epoch 36/100\n",
      " - 0s - loss: 8.4354e-06\n",
      "Epoch 37/100\n",
      " - 0s - loss: 1.2207e-05\n",
      "Epoch 38/100\n",
      " - 0s - loss: 9.0487e-06\n",
      "Epoch 39/100\n",
      " - 0s - loss: 8.4080e-06\n",
      "Epoch 40/100\n",
      " - 0s - loss: 9.9253e-06\n",
      "Epoch 41/100\n",
      " - 0s - loss: 9.5739e-06\n",
      "Epoch 42/100\n",
      " - 0s - loss: 8.0855e-06\n",
      "Epoch 43/100\n",
      " - 0s - loss: 9.5980e-06\n",
      "Epoch 44/100\n",
      " - 0s - loss: 8.7386e-06\n",
      "Epoch 45/100\n",
      " - 0s - loss: 9.6774e-06\n",
      "Epoch 46/100\n",
      " - 0s - loss: 8.5715e-06\n",
      "Epoch 47/100\n",
      " - 0s - loss: 8.7943e-06\n",
      "Epoch 48/100\n",
      " - 0s - loss: 9.5525e-06\n",
      "Epoch 49/100\n",
      " - 0s - loss: 1.0138e-05\n",
      "Epoch 50/100\n",
      " - 0s - loss: 1.0522e-05\n",
      "Epoch 51/100\n",
      " - 0s - loss: 8.3845e-06\n",
      "Epoch 52/100\n",
      " - 0s - loss: 9.0658e-06\n",
      "Epoch 53/100\n",
      " - 0s - loss: 9.1621e-06\n",
      "Epoch 54/100\n",
      " - 0s - loss: 1.2040e-05\n",
      "Epoch 55/100\n",
      " - 0s - loss: 9.9139e-06\n",
      "Epoch 56/100\n",
      " - 0s - loss: 8.6890e-06\n",
      "Epoch 57/100\n",
      " - 0s - loss: 9.3305e-06\n",
      "Epoch 58/100\n",
      " - 0s - loss: 7.3635e-06\n",
      "Epoch 59/100\n",
      " - 0s - loss: 1.0113e-05\n",
      "Epoch 60/100\n",
      " - 0s - loss: 9.2033e-06\n",
      "Epoch 61/100\n",
      " - 0s - loss: 8.5380e-06\n",
      "Epoch 62/100\n",
      " - 0s - loss: 8.8772e-06\n",
      "Epoch 63/100\n",
      " - 0s - loss: 6.6478e-06\n",
      "Epoch 64/100\n",
      " - 0s - loss: 8.7760e-06\n",
      "Epoch 65/100\n",
      " - 0s - loss: 7.0813e-06\n",
      "Epoch 66/100\n",
      " - 0s - loss: 7.3793e-06\n",
      "Epoch 67/100\n",
      " - 0s - loss: 7.0052e-06\n",
      "Epoch 68/100\n",
      " - 0s - loss: 6.2447e-06\n",
      "Epoch 69/100\n",
      " - 0s - loss: 7.6114e-06\n",
      "Epoch 70/100\n",
      " - 0s - loss: 9.0092e-06\n",
      "Epoch 71/100\n",
      " - 0s - loss: 6.0032e-06\n",
      "Epoch 72/100\n",
      " - 0s - loss: 7.1015e-06\n",
      "Epoch 73/100\n",
      " - 0s - loss: 7.7236e-06\n",
      "Epoch 74/100\n",
      " - 0s - loss: 6.3135e-06\n",
      "Epoch 75/100\n",
      " - 0s - loss: 7.3275e-06\n",
      "Epoch 76/100\n",
      " - 0s - loss: 6.4806e-06\n",
      "Epoch 77/100\n",
      " - 0s - loss: 6.8322e-06\n",
      "Epoch 78/100\n",
      " - 0s - loss: 8.6880e-06\n",
      "Epoch 79/100\n",
      " - 0s - loss: 7.0854e-06\n",
      "Epoch 80/100\n",
      " - 0s - loss: 7.3577e-06\n",
      "Epoch 81/100\n",
      " - 0s - loss: 5.6611e-06\n",
      "Epoch 82/100\n",
      " - 0s - loss: 6.1619e-06\n",
      "Epoch 83/100\n",
      " - 0s - loss: 7.5750e-06\n",
      "Epoch 84/100\n",
      " - 0s - loss: 5.8151e-06\n",
      "Epoch 85/100\n",
      " - 0s - loss: 8.1424e-06\n",
      "Epoch 86/100\n",
      " - 0s - loss: 5.8572e-06\n",
      "Epoch 87/100\n",
      " - 0s - loss: 5.3431e-06\n",
      "Epoch 88/100\n",
      " - 0s - loss: 5.6549e-06\n",
      "Epoch 89/100\n",
      " - 0s - loss: 7.4416e-06\n",
      "Epoch 90/100\n",
      " - 0s - loss: 4.2286e-06\n",
      "Epoch 91/100\n",
      " - 0s - loss: 6.0059e-06\n",
      "Epoch 92/100\n",
      " - 0s - loss: 7.9039e-06\n",
      "Epoch 93/100\n",
      " - 0s - loss: 7.1821e-06\n",
      "Epoch 94/100\n",
      " - 0s - loss: 5.0824e-06\n",
      "Epoch 95/100\n",
      " - 0s - loss: 5.6031e-06\n",
      "Epoch 96/100\n",
      " - 0s - loss: 6.0059e-06\n",
      "Epoch 97/100\n",
      " - 0s - loss: 6.4158e-06\n",
      "Epoch 98/100\n",
      " - 0s - loss: 5.5554e-06\n",
      "Epoch 99/100\n",
      " - 0s - loss: 5.1044e-06\n",
      "Epoch 100/100\n",
      " - 0s - loss: 5.7940e-06\n",
      "Train Score: 316.67 RMSE\n",
      "Test Score: 1660.70 RMSE\n"
     ]
    },
    {
     "data": {
      "image/png": "[encoded data removed]",
      "text/plain": [
       "<Figure size 432x288 with 1 Axes>"
      ]
     },
     "metadata": {
      "needs_background": "light"
     },
     "output_type": "display_data"
    }
   ],
   "source": [
    "import numpy\n",
    "import matplotlib.pyplot as plt\n",
    "from pandas import read_csv\n",
    "import math\n",
    "from keras.models import Sequential\n",
    "from keras.layers import Dense\n",
    "from keras.layers import LSTM\n",
    "from sklearn.preprocessing import MinMaxScaler\n",
    "from sklearn.metrics import mean_squared_error\n",
    "import tensorflow as tf\n",
    "\n",
    "\n",
    "# fix random seed for reproducibility\n",
    "numpy.random.seed(7)\n",
    "\n",
    "# load the dataset\n",
    "dataframe = read_csv('Confirmed.csv', index_col='Date', engine='python')\n",
    "dataset = dataframe.values\n",
    "dataset = dataset.astype('float32')\n",
    "\n",
    "# normalize the dataset\n",
    "scaler = MinMaxScaler(feature_range=(0, 1))\n",
    "dataset = scaler.fit_transform(dataset)\n",
    "\n",
    "# split into train and test sets\n",
    "train_size = int(len(dataset) * 0.8)\n",
    "test_size = len(dataset) - train_size\n",
    "train, test = dataset[0:train_size,:], dataset[train_size:len(dataset),:]\n",
    "\n",
    "\n",
    "\n",
    "# convert an array of values into a dataset matrix\n",
    "def create_dataset(dataset, look_back=1):\n",
    "    dataX, dataY = [], []\n",
    "    for i in range(len(dataset)-look_back-1):\n",
    "        a = dataset[i:(i+look_back), 0]\n",
    "        dataX.append(a)\n",
    "        dataY.append(dataset[i + look_back, 0])\n",
    "    return numpy.array(dataX), numpy.array(dataY)\n",
    "\n",
    "\n",
    "\n",
    "# reshape into X=t and Y=t+1\n",
    "look_back = 1\n",
    "trainX, trainY = create_dataset(train, look_back)\n",
    "testX, testY = create_dataset(test, look_back)\n",
    "\n",
    "# reshape input to be [samples, time steps, features]\n",
    "trainX = trainX.reshape((trainX.shape[0], 1, trainX.shape[1]))\n",
    "testX = testX.reshape((testX.shape[0], 1, testX.shape[1]))\n",
    "\n",
    "# create and fit the RNN network\n",
    "model = Sequential()\n",
    "model.add(LSTM(18, input_shape=(trainX.shape[1], trainX.shape[2])))\n",
    "model.add(Dense(1))\n",
    "model.compile(loss='mean_squared_error', optimizer='adam')\n",
    "model.fit(trainX, trainY, epochs=100, batch_size=1, verbose=2)\n",
    "\n",
    "# make predictions\n",
    "model.reset_states()\n",
    "trainPredict = model.predict(trainX)\n",
    "model.reset_states()\n",
    "testPredict = model.predict(testX)\n",
    "\n",
    "# invert predictions\n",
    "trainPredict = scaler.inverse_transform(trainPredict)\n",
    "trainY = scaler.inverse_transform([trainY])\n",
    "testPredict = scaler.inverse_transform(testPredict)\n",
    "testY = scaler.inverse_transform([testY])\n",
    "\n",
    "# calculate root mean squared error\n",
    "trainScore = math.sqrt(mean_squared_error(trainY[0], trainPredict[:,0]))\n",
    "print('Train Score: %.2f RMSE' % (trainScore))\n",
    "testScore = math.sqrt(mean_squared_error(testY[0], testPredict[:,0]))\n",
    "print('Test Score: %.2f RMSE' % (testScore))\n",
    "\n",
    "# shift train predictions for plotting\n",
    "trainPredictPlot = numpy.empty_like(dataset)\n",
    "trainPredictPlot[:, :] = numpy.nan\n",
    "trainPredictPlot[look_back:len(trainPredict)+look_back, :] = trainPredict\n",
    "\n",
    "# shift test predictions for plotting\n",
    "testPredictPlot = numpy.empty_like(dataset)\n",
    "testPredictPlot[:, :] = numpy.nan\n",
    "testPredictPlot[len(trainPredict)+(look_back*2)+1:len(dataset)-1, :] = testPredict\n",
    "\n",
    "# plot baseline and predictions\n",
    "plt.plot(scaler.inverse_transform(dataset))\n",
    "plt.plot(trainPredictPlot)\n",
    "plt.plot(testPredictPlot)\n",
    "plt.show()\n"
   ]
  },
  {
   "cell_type": "code",
   "execution_count": null,
   "metadata": {},
   "outputs": [],
   "source": [
    "\n"
   ]
  },
  {
   "cell_type": "code",
   "execution_count": null,
   "metadata": {},
   "outputs": [],
   "source": []
  },
  {
   "cell_type": "code",
   "execution_count": null,
   "metadata": {},
   "outputs": [],
   "source": []
  },
  {
   "cell_type": "code",
   "execution_count": 1,
   "metadata": {},
   "outputs": [
    {
     "name": "stderr",
     "output_type": "stream",
     "text": [
      "Using TensorFlow backend.\n"
     ]
    }
   ],
   "source": [
    "import numpy as np\n",
    "import matplotlib.pyplot as plt\n",
    "import pandas as pd\n",
    "from keras.models import Sequential\n",
    "from keras.layers import Dense\n",
    "from keras.layers import LSTM\n",
    "from sklearn.preprocessing import MinMaxScaler"
   ]
  },
  {
   "cell_type": "code",
   "execution_count": 8,
   "metadata": {},
   "outputs": [
    {
     "data": {
      "text/html": [
       "<div>\n",
       "<style scoped>\n",
       "    .dataframe tbody tr th:only-of-type {\n",
       "        vertical-align: middle;\n",
       "    }\n",
       "\n",
       "    .dataframe tbody tr th {\n",
       "        vertical-align: top;\n",
       "    }\n",
       "\n",
       "    .dataframe thead th {\n",
       "        text-align: right;\n",
       "    }\n",
       "</style>\n",
       "<table border=\"1\" class=\"dataframe\">\n",
       "  <thead>\n",
       "    <tr style=\"text-align: right;\">\n",
       "      <th></th>\n",
       "      <th>Confirmed</th>\n",
       "    </tr>\n",
       "    <tr>\n",
       "      <th>Date</th>\n",
       "      <th></th>\n",
       "    </tr>\n",
       "  </thead>\n",
       "  <tbody>\n",
       "    <tr>\n",
       "      <th>21-02-2020</th>\n",
       "      <td>1</td>\n",
       "    </tr>\n",
       "    <tr>\n",
       "      <th>22-02-2020</th>\n",
       "      <td>1</td>\n",
       "    </tr>\n",
       "    <tr>\n",
       "      <th>23-02-2020</th>\n",
       "      <td>2</td>\n",
       "    </tr>\n",
       "    <tr>\n",
       "      <th>24-02-2020</th>\n",
       "      <td>3</td>\n",
       "    </tr>\n",
       "    <tr>\n",
       "      <th>25-02-2020</th>\n",
       "      <td>3</td>\n",
       "    </tr>\n",
       "    <tr>\n",
       "      <th>...</th>\n",
       "      <td>...</td>\n",
       "    </tr>\n",
       "    <tr>\n",
       "      <th>20-05-2020</th>\n",
       "      <td>106750</td>\n",
       "    </tr>\n",
       "    <tr>\n",
       "      <th>21-05-2020</th>\n",
       "      <td>112359</td>\n",
       "    </tr>\n",
       "    <tr>\n",
       "      <th>22-05-2020</th>\n",
       "      <td>118447</td>\n",
       "    </tr>\n",
       "    <tr>\n",
       "      <th>23-05-2020</th>\n",
       "      <td>125101</td>\n",
       "    </tr>\n",
       "    <tr>\n",
       "      <th>24-05-2020</th>\n",
       "      <td>131868</td>\n",
       "    </tr>\n",
       "  </tbody>\n",
       "</table>\n",
       "<p>94 rows × 1 columns</p>\n",
       "</div>"
      ],
      "text/plain": [
       "            Confirmed\n",
       "Date                 \n",
       "21-02-2020          1\n",
       "22-02-2020          1\n",
       "23-02-2020          2\n",
       "24-02-2020          3\n",
       "25-02-2020          3\n",
       "...               ...\n",
       "20-05-2020     106750\n",
       "21-05-2020     112359\n",
       "22-05-2020     118447\n",
       "23-05-2020     125101\n",
       "24-05-2020     131868\n",
       "\n",
       "[94 rows x 1 columns]"
      ]
     },
     "execution_count": 8,
     "metadata": {},
     "output_type": "execute_result"
    }
   ],
   "source": [
    "df = pd.read_csv('Confirmed.csv',index_col='Date')\n",
    "df"
   ]
  },
  {
   "cell_type": "code",
   "execution_count": 9,
   "metadata": {},
   "outputs": [
    {
     "data": {
      "image/png": "[encoded data removed]",
      "text/plain": [
       "<Figure size 432x288 with 1 Axes>"
      ]
     },
     "metadata": {
      "needs_background": "light"
     },
     "output_type": "display_data"
    }
   ],
   "source": [
    "plt.plot(df.Confirmed)\n",
    "plt.show()"
   ]
  },
  {
   "cell_type": "code",
   "execution_count": null,
   "metadata": {},
   "outputs": [],
   "source": [
    "test_data_size = 19\n",
    "\n",
    "train = df[:-test_data_size]\n",
    "test = df[-test_data_size:]\n"
   ]
  },
  {
   "cell_type": "code",
   "execution_count": null,
   "metadata": {},
   "outputs": [],
   "source": [
    "scaler = MinMaxScaler()\n",
    "\n",
    "scaler.fit(train)\n"
   ]
  },
  {
   "cell_type": "code",
   "execution_count": 6,
   "metadata": {},
   "outputs": [
    {
     "name": "stdout",
     "output_type": "stream",
     "text": [
      "[[0.75229804]\n",
      " [0.81237093]\n",
      " [0.86728083]\n",
      " [0.945738  ]\n",
      " [1.        ]]\n"
     ]
    }
   ],
   "source": [
    "scaled_train = scaler.transform(train)#and divide every point by max value\n",
    "scaled_test = scaler.transform(test)\n",
    "print(scaled_train[-5:])"
   ]
  },
  {
   "cell_type": "code",
   "execution_count": 7,
   "metadata": {},
   "outputs": [
    {
     "data": {
      "text/plain": [
       "(76, 1)"
      ]
     },
     "execution_count": 7,
     "metadata": {},
     "output_type": "execute_result"
    }
   ],
   "source": [
    "scaled_train.shape"
   ]
  },
  {
   "cell_type": "code",
   "execution_count": 8,
   "metadata": {},
   "outputs": [],
   "source": [
    "## feed in batches [t1,t2,t3] --> t4\n",
    "from keras.preprocessing.sequence import TimeseriesGenerator"
   ]
  },
  {
   "cell_type": "code",
   "execution_count": 9,
   "metadata": {},
   "outputs": [],
   "source": [
    "## how to decide num of inputs , \n",
    "n_input = 5  ## number of steps\n",
    "n_features = 1 ## number of features you want to predict (for univariate time series n_features=1)\n",
    "generator = TimeseriesGenerator(scaled_train,scaled_train,length = n_input,batch_size=1)"
   ]
  },
  {
   "cell_type": "code",
   "execution_count": 10,
   "metadata": {},
   "outputs": [
    {
     "data": {
      "text/plain": [
       "76"
      ]
     },
     "execution_count": 10,
     "metadata": {},
     "output_type": "execute_result"
    }
   ],
   "source": [
    "len(scaled_train)"
   ]
  },
  {
   "cell_type": "code",
   "execution_count": 11,
   "metadata": {},
   "outputs": [
    {
     "data": {
      "text/plain": [
       "71"
      ]
     },
     "execution_count": 11,
     "metadata": {},
     "output_type": "execute_result"
    }
   ],
   "source": [
    "len(generator)"
   ]
  },
  {
   "cell_type": "code",
   "execution_count": 12,
   "metadata": {},
   "outputs": [],
   "source": [
    "x,y = generator[50]"
   ]
  },
  {
   "cell_type": "code",
   "execution_count": 13,
   "metadata": {},
   "outputs": [
    {
     "data": {
      "text/plain": [
       "((1, 5, 1), (1, 1))"
      ]
     },
     "execution_count": 13,
     "metadata": {},
     "output_type": "execute_result"
    }
   ],
   "source": [
    "(x.shape,y.shape)"
   ]
  },
  {
   "cell_type": "code",
   "execution_count": 14,
   "metadata": {},
   "outputs": [
    {
     "data": {
      "text/plain": [
       "(array([[[0.15241952],\n",
       "         [0.17100628],\n",
       "         [0.18932982],\n",
       "         [0.2189512 ],\n",
       "         [0.24158737]]]), array([[0.2583114]]))"
      ]
     },
     "execution_count": 14,
     "metadata": {},
     "output_type": "execute_result"
    }
   ],
   "source": [
    "\n",
    "(x,y)\n"
   ]
  },
  {
   "cell_type": "code",
   "execution_count": 15,
   "metadata": {},
   "outputs": [
    {
     "data": {
      "text/plain": [
       "array([[0.2583114]])"
      ]
     },
     "execution_count": 15,
     "metadata": {},
     "output_type": "execute_result"
    }
   ],
   "source": [
    "y"
   ]
  },
  {
   "cell_type": "code",
   "execution_count": 16,
   "metadata": {},
   "outputs": [],
   "source": [
    "\n",
    "from keras.models import Sequential\n",
    "from keras.layers import Dense, LSTM, Dropout, Activation"
   ]
  },
  {
   "cell_type": "code",
   "execution_count": 17,
   "metadata": {},
   "outputs": [],
   "source": [
    "model = Sequential()\n",
    "model.add(LSTM(150,input_shape=(n_input,n_features)))\n",
    "#model.add(Dropout(0.2))\n",
    "model.add(Dense(75))\n",
    "model.add(Dense(units=1))\n",
    "#model.add(Activation('softmax'))\n",
    "#model.add(Dense(1))\n",
    "model.compile(optimizer=\"adam\",loss=\"mse\")\n"
   ]
  },
  {
   "cell_type": "code",
   "execution_count": 18,
   "metadata": {},
   "outputs": [
    {
     "name": "stdout",
     "output_type": "stream",
     "text": [
      "Model: \"sequential_1\"\n",
      "_________________________________________________________________\n",
      "Layer (type)                 Output Shape              Param #   \n",
      "=================================================================\n",
      "lstm_1 (LSTM)                (None, 150)               91200     \n",
      "_________________________________________________________________\n",
      "dense_1 (Dense)              (None, 75)                11325     \n",
      "_________________________________________________________________\n",
      "dense_2 (Dense)              (None, 1)                 76        \n",
      "=================================================================\n",
      "Total params: 102,601\n",
      "Trainable params: 102,601\n",
      "Non-trainable params: 0\n",
      "_________________________________________________________________\n"
     ]
    }
   ],
   "source": [
    "model.summary()"
   ]
  },
  {
   "cell_type": "code",
   "execution_count": 19,
   "metadata": {},
   "outputs": [
    {
     "data": {
      "text/plain": [
       "array([[0.15241952],\n",
       "       [1.07209962],\n",
       "       [1.14073699],\n",
       "       [1.20795708],\n",
       "       [1.27430654],\n",
       "       [1.35960721],\n",
       "       [1.43257744],\n",
       "       [1.50394817],\n",
       "       [1.57930755],\n",
       "       [1.65962745],\n",
       "       [1.73535129],\n",
       "       [1.83510832],\n",
       "       [1.93881353],\n",
       "       [2.03126139],\n",
       "       [2.16134845],\n",
       "       [2.27491395],\n",
       "       [2.39817777],\n",
       "       [2.5329014 ],\n",
       "       [2.66991294],\n",
       "       [2.81117635]])"
      ]
     },
     "execution_count": 19,
     "metadata": {},
     "output_type": "execute_result"
    }
   ],
   "source": [
    "validation_set = np.append(scaled_train[50],scaled_test)\n",
    "validation_set= validation_set.reshape(20,1)\n",
    "validation_set"
   ]
  },
  {
   "cell_type": "code",
   "execution_count": 20,
   "metadata": {},
   "outputs": [],
   "source": [
    "## how to decide num of inputs , \n",
    "n_input = 5\n",
    "n_features = 1\n",
    "validation_gen = TimeseriesGenerator(validation_set,validation_set,length=5,batch_size=1)"
   ]
  },
  {
   "cell_type": "code",
   "execution_count": 21,
   "metadata": {},
   "outputs": [
    {
     "data": {
      "text/plain": [
       "((1, 5, 1), (1, 1))"
      ]
     },
     "execution_count": 21,
     "metadata": {},
     "output_type": "execute_result"
    }
   ],
   "source": [
    "validation_gen[0][0].shape,validation_gen[0][1].shape"
   ]
  },
  {
   "cell_type": "code",
   "execution_count": 22,
   "metadata": {},
   "outputs": [],
   "source": [
    "from tensorflow.keras.callbacks import EarlyStopping\n",
    "early_stop = EarlyStopping(monitor='val_loss',patience=20,restore_best_weights=True)"
   ]
  },
  {
   "cell_type": "code",
   "execution_count": 23,
   "metadata": {},
   "outputs": [
    {
     "name": "stdout",
     "output_type": "stream",
     "text": [
      "Epoch 1/100\n",
      "10/10 [==============================] - 3s 300ms/step - loss: 0.0785 - val_loss: 0.2809\n",
      "Epoch 2/100\n",
      "10/10 [==============================] - 0s 18ms/step - loss: 0.0176 - val_loss: 0.1205\n",
      "Epoch 3/100\n",
      "10/10 [==============================] - 0s 19ms/step - loss: 0.0067 - val_loss: 0.0589\n",
      "Epoch 4/100\n",
      "10/10 [==============================] - 0s 15ms/step - loss: 0.0013 - val_loss: 0.4131\n",
      "Epoch 5/100\n",
      "10/10 [==============================] - 0s 14ms/step - loss: 7.0780e-04 - val_loss: 1.1679\n",
      "Epoch 6/100\n",
      "10/10 [==============================] - 0s 17ms/step - loss: 0.0014 - val_loss: 0.6140\n",
      "Epoch 7/100\n",
      "10/10 [==============================] - 0s 15ms/step - loss: 0.0024 - val_loss: 0.0020\n",
      "Epoch 8/100\n",
      "10/10 [==============================] - 0s 20ms/step - loss: 0.0011 - val_loss: 0.0110\n",
      "Epoch 9/100\n",
      "10/10 [==============================] - 0s 20ms/step - loss: 3.0100e-04 - val_loss: 0.0255\n",
      "Epoch 10/100\n",
      "10/10 [==============================] - 0s 17ms/step - loss: 2.8371e-04 - val_loss: 0.0297\n",
      "Epoch 11/100\n",
      "10/10 [==============================] - 0s 18ms/step - loss: 2.3357e-04 - val_loss: 0.0309\n",
      "Epoch 12/100\n",
      "10/10 [==============================] - 0s 17ms/step - loss: 1.3541e-04 - val_loss: 0.0054\n",
      "Epoch 13/100\n",
      "10/10 [==============================] - 0s 12ms/step - loss: 2.3529e-04 - val_loss: 0.0086\n",
      "Epoch 14/100\n",
      "10/10 [==============================] - 0s 13ms/step - loss: 1.0997e-04 - val_loss: 0.0220\n",
      "Epoch 15/100\n",
      "10/10 [==============================] - 0s 22ms/step - loss: 2.6189e-04 - val_loss: 0.0182\n",
      "Epoch 16/100\n",
      "10/10 [==============================] - 0s 10ms/step - loss: 2.2144e-04 - val_loss: 0.0021\n",
      "Epoch 17/100\n",
      "10/10 [==============================] - 0s 12ms/step - loss: 2.1411e-04 - val_loss: 0.0186\n",
      "Epoch 18/100\n",
      "10/10 [==============================] - 0s 19ms/step - loss: 4.0253e-04 - val_loss: 0.0087\n",
      "Epoch 19/100\n",
      "10/10 [==============================] - 0s 23ms/step - loss: 7.6750e-05 - val_loss: 3.0833e-04\n",
      "Epoch 20/100\n",
      "10/10 [==============================] - 0s 17ms/step - loss: 1.2592e-04 - val_loss: 1.5435e-04\n",
      "Epoch 21/100\n",
      "10/10 [==============================] - 0s 21ms/step - loss: 1.5006e-04 - val_loss: 0.0020\n",
      "Epoch 22/100\n",
      "10/10 [==============================] - 0s 13ms/step - loss: 1.0489e-04 - val_loss: 0.0023\n",
      "Epoch 23/100\n",
      "10/10 [==============================] - 0s 13ms/step - loss: 3.1885e-04 - val_loss: 2.5906e-04\n",
      "Epoch 24/100\n",
      "10/10 [==============================] - 0s 18ms/step - loss: 2.1092e-04 - val_loss: 0.0013\n",
      "Epoch 25/100\n",
      "10/10 [==============================] - 0s 13ms/step - loss: 3.1136e-04 - val_loss: 0.0017\n",
      "Epoch 26/100\n",
      "10/10 [==============================] - 0s 11ms/step - loss: 2.3378e-04 - val_loss: 0.0018\n",
      "Epoch 27/100\n",
      "10/10 [==============================] - 0s 20ms/step - loss: 1.2521e-04 - val_loss: 0.0541\n",
      "Epoch 28/100\n",
      "10/10 [==============================] - 0s 21ms/step - loss: 8.1641e-04 - val_loss: 0.1150\n",
      "Epoch 29/100\n",
      "10/10 [==============================] - 0s 15ms/step - loss: 0.0024 - val_loss: 0.0525\n",
      "Epoch 30/100\n",
      "10/10 [==============================] - 0s 18ms/step - loss: 0.0036 - val_loss: 0.5505\n",
      "Epoch 31/100\n",
      "10/10 [==============================] - 0s 15ms/step - loss: 0.0104 - val_loss: 0.0040\n",
      "Epoch 32/100\n",
      "10/10 [==============================] - 0s 17ms/step - loss: 0.0025 - val_loss: 0.1239\n",
      "Epoch 33/100\n",
      "10/10 [==============================] - 0s 12ms/step - loss: 7.8755e-04 - val_loss: 0.0099\n",
      "Epoch 34/100\n",
      "10/10 [==============================] - 0s 12ms/step - loss: 3.5694e-04 - val_loss: 8.3273e-04\n",
      "Epoch 35/100\n",
      "10/10 [==============================] - 0s 16ms/step - loss: 6.5649e-04 - val_loss: 0.0270\n",
      "Epoch 36/100\n",
      "10/10 [==============================] - 0s 16ms/step - loss: 1.7440e-04 - val_loss: 0.0603\n",
      "Epoch 37/100\n",
      "10/10 [==============================] - 0s 15ms/step - loss: 2.4568e-04 - val_loss: 0.0357\n",
      "Epoch 38/100\n",
      "10/10 [==============================] - 0s 23ms/step - loss: 1.0309e-04 - val_loss: 0.0200\n",
      "Epoch 39/100\n",
      "10/10 [==============================] - 0s 16ms/step - loss: 1.7690e-04 - val_loss: 0.0547\n",
      "Epoch 40/100\n",
      "10/10 [==============================] - 0s 20ms/step - loss: 8.4092e-05 - val_loss: 0.0313\n"
     ]
    },
    {
     "data": {
      "text/plain": [
       "<keras.callbacks.callbacks.History at 0x24bad612248>"
      ]
     },
     "execution_count": 23,
     "metadata": {},
     "output_type": "execute_result"
    }
   ],
   "source": [
    "model.fit_generator(generator,validation_data=validation_gen,epochs=100,callbacks=[early_stop],steps_per_epoch=10)\n"
   ]
  },
  {
   "cell_type": "code",
   "execution_count": 24,
   "metadata": {},
   "outputs": [
    {
     "data": {
      "text/plain": [
       "<matplotlib.axes._subplots.AxesSubplot at 0x24baf025808>"
      ]
     },
     "execution_count": 24,
     "metadata": {},
     "output_type": "execute_result"
    },
    {
     "data": {
      "image/png": "[encoded data removed]",
      "text/plain": [
       "<Figure size 432x288 with 1 Axes>"
      ]
     },
     "metadata": {
      "needs_background": "light"
     },
     "output_type": "display_data"
    }
   ],
   "source": [
    "pd.DataFrame(model.history.history).plot(title=\"loss vs epochs curve\")"
   ]
  },
  {
   "cell_type": "code",
   "execution_count": 25,
   "metadata": {},
   "outputs": [
    {
     "data": {
      "text/plain": [
       "dict_keys(['val_loss', 'loss'])"
      ]
     },
     "execution_count": 25,
     "metadata": {},
     "output_type": "execute_result"
    }
   ],
   "source": [
    "\n",
    "model.history.history.keys()\n"
   ]
  },
  {
   "cell_type": "code",
   "execution_count": 26,
   "metadata": {},
   "outputs": [
    {
     "data": {
      "text/plain": [
       "[<matplotlib.lines.Line2D at 0x24bb076d908>]"
      ]
     },
     "execution_count": 26,
     "metadata": {},
     "output_type": "execute_result"
    },
    {
     "data": {
      "image/png": "[encoded data removed]",
      "text/plain": [
       "<Figure size 432x288 with 1 Axes>"
      ]
     },
     "metadata": {
      "needs_background": "light"
     },
     "output_type": "display_data"
    }
   ],
   "source": [
    "myloss = model.history.history[\"val_loss\"]\n",
    "plt.title(\"validation loss vs epochs\")\n",
    "plt.plot(range(len(myloss)),myloss)\n"
   ]
  },
  {
   "cell_type": "markdown",
   "metadata": {},
   "source": [
    "Forecast"
   ]
  },
  {
   "cell_type": "code",
   "execution_count": 47,
   "metadata": {},
   "outputs": [],
   "source": [
    "## holding predictions\n",
    "test_prediction = []\n",
    "\n",
    "##last n points from training set\n",
    "first_eval_batch = scaled_train[-n_input:]\n",
    "current_batch = first_eval_batch.reshape(1,n_input,n_features)"
   ]
  },
  {
   "cell_type": "code",
   "execution_count": 48,
   "metadata": {},
   "outputs": [
    {
     "data": {
      "text/plain": [
       "(1, 5, 1)"
      ]
     },
     "execution_count": 48,
     "metadata": {},
     "output_type": "execute_result"
    }
   ],
   "source": [
    "\n",
    "current_batch.shape"
   ]
  },
  {
   "cell_type": "code",
   "execution_count": 49,
   "metadata": {},
   "outputs": [],
   "source": [
    "## how far in future we can predict\n",
    "for i in range(len(test)+13):\n",
    "    current_pred = model.predict(current_batch)[0]\n",
    "    test_prediction.append(current_pred)\n",
    "    current_batch = np.append(current_batch[:,1:,:],[[current_pred]],axis=1)"
   ]
  },
  {
   "cell_type": "code",
   "execution_count": 50,
   "metadata": {},
   "outputs": [
    {
     "data": {
      "text/plain": [
       "[array([1.0404037], dtype=float32),\n",
       " array([1.1086786], dtype=float32),\n",
       " array([1.1782296], dtype=float32),\n",
       " array([1.2509367], dtype=float32),\n",
       " array([1.3240343], dtype=float32),\n",
       " array([1.4019597], dtype=float32),\n",
       " array([1.4873918], dtype=float32),\n",
       " array([1.5767322], dtype=float32),\n",
       " array([1.6705941], dtype=float32),\n",
       " array([1.769218], dtype=float32),\n",
       " array([1.8732193], dtype=float32),\n",
       " array([1.9824888], dtype=float32),\n",
       " array([2.096484], dtype=float32),\n",
       " array([2.2151482], dtype=float32),\n",
       " array([2.338228], dtype=float32),\n",
       " array([2.465325], dtype=float32),\n",
       " array([2.59583], dtype=float32),\n",
       " array([2.7290218], dtype=float32),\n",
       " array([2.86412], dtype=float32),\n",
       " array([3.000209], dtype=float32),\n",
       " array([3.1362784], dtype=float32),\n",
       " array([3.2712555], dtype=float32),\n",
       " array([3.404054], dtype=float32),\n",
       " array([3.533612], dtype=float32),\n",
       " array([3.6589243], dtype=float32),\n",
       " array([3.7790847], dtype=float32),\n",
       " array([3.8933194], dtype=float32),\n",
       " array([4.001011], dtype=float32),\n",
       " array([4.101711], dtype=float32),\n",
       " array([4.1951413], dtype=float32),\n",
       " array([4.2811875], dtype=float32),\n",
       " array([4.3598866], dtype=float32)]"
      ]
     },
     "execution_count": 50,
     "metadata": {},
     "output_type": "execute_result"
    }
   ],
   "source": [
    "test_prediction"
   ]
  },
  {
   "cell_type": "code",
   "execution_count": 67,
   "metadata": {
    "scrolled": true
   },
   "outputs": [
    {
     "data": {
      "text/plain": [
       "array([ 51386.53991437,  54758.63503313,  58193.7584815 ,  61784.76591444,\n",
       "        65395.05571818,  69243.78749228,  73463.28245854,  77875.80131626,\n",
       "        82511.64241052,  87382.67543888,  92519.29883814,  97916.11943221,\n",
       "       103546.34208536, 109407.17011786, 115486.08029222, 121763.40753412,\n",
       "       128209.04190636, 134787.38609171, 141459.88712406, 148181.32710791,\n",
       "       154901.78972578, 161568.30880737, 168127.22342825, 174526.09731531,\n",
       "       180715.27321196, 186649.99246693, 192292.04360342, 197610.92809296,\n",
       "       202584.49623203, 207199.02957058, 211448.85232067, 215335.80145931])"
      ]
     },
     "execution_count": 67,
     "metadata": {},
     "output_type": "execute_result"
    }
   ],
   "source": [
    "\n",
    "### inverse scaled data\n",
    "true_prediction = scaler.inverse_transform(test_prediction)\n",
    "true_prediction[:,0]\n"
   ]
  },
  {
   "cell_type": "code",
   "execution_count": null,
   "metadata": {},
   "outputs": [],
   "source": []
  },
  {
   "cell_type": "code",
   "execution_count": 66,
   "metadata": {},
   "outputs": [],
   "source": [
    "from pandas.tseries.offsets import DateOffset\n",
    "from datetime import datetime\n",
    "time_series_array = test.index\n",
    "\n",
    "    \n",
    "for k in range(0,13):\n",
    "    time_series_array = test.index\n",
    "    nextd=pd.date_range('26-05-2020',periods=13)\n",
    "    nextd=nextd.strftime('%d-%m-%Y')\n",
    "    time_series_array = time_series_array.append(nextd)\n"
   ]
  },
  {
   "cell_type": "code",
   "execution_count": null,
   "metadata": {},
   "outputs": [],
   "source": []
  },
  {
   "cell_type": "code",
   "execution_count": null,
   "metadata": {},
   "outputs": [],
   "source": []
  },
  {
   "cell_type": "code",
   "execution_count": 76,
   "metadata": {},
   "outputs": [],
   "source": [
    "\n"
   ]
  },
  {
   "cell_type": "code",
   "execution_count": 77,
   "metadata": {},
   "outputs": [
    {
     "data": {
      "text/html": [
       "<div>\n",
       "<style scoped>\n",
       "    .dataframe tbody tr th:only-of-type {\n",
       "        vertical-align: middle;\n",
       "    }\n",
       "\n",
       "    .dataframe tbody tr th {\n",
       "        vertical-align: top;\n",
       "    }\n",
       "\n",
       "    .dataframe thead th {\n",
       "        text-align: right;\n",
       "    }\n",
       "</style>\n",
       "<table border=\"1\" class=\"dataframe\">\n",
       "  <thead>\n",
       "    <tr style=\"text-align: right;\">\n",
       "      <th></th>\n",
       "      <th>confirmed</th>\n",
       "      <th>confirmed_predicted</th>\n",
       "    </tr>\n",
       "  </thead>\n",
       "  <tbody>\n",
       "    <tr>\n",
       "      <th>07-05-2020</th>\n",
       "      <td>52952.0</td>\n",
       "      <td>51386.539914</td>\n",
       "    </tr>\n",
       "    <tr>\n",
       "      <th>08-05-2020</th>\n",
       "      <td>56342.0</td>\n",
       "      <td>54758.635033</td>\n",
       "    </tr>\n",
       "    <tr>\n",
       "      <th>09-05-2020</th>\n",
       "      <td>59662.0</td>\n",
       "      <td>58193.758482</td>\n",
       "    </tr>\n",
       "    <tr>\n",
       "      <th>10-05-2020</th>\n",
       "      <td>62939.0</td>\n",
       "      <td>61784.765914</td>\n",
       "    </tr>\n",
       "    <tr>\n",
       "      <th>11-05-2020</th>\n",
       "      <td>67152.0</td>\n",
       "      <td>65395.055718</td>\n",
       "    </tr>\n",
       "    <tr>\n",
       "      <th>12-05-2020</th>\n",
       "      <td>70756.0</td>\n",
       "      <td>69243.787492</td>\n",
       "    </tr>\n",
       "    <tr>\n",
       "      <th>13-05-2020</th>\n",
       "      <td>74281.0</td>\n",
       "      <td>73463.282459</td>\n",
       "    </tr>\n",
       "    <tr>\n",
       "      <th>14-05-2020</th>\n",
       "      <td>78003.0</td>\n",
       "      <td>77875.801316</td>\n",
       "    </tr>\n",
       "    <tr>\n",
       "      <th>15-05-2020</th>\n",
       "      <td>81970.0</td>\n",
       "      <td>82511.642411</td>\n",
       "    </tr>\n",
       "    <tr>\n",
       "      <th>16-05-2020</th>\n",
       "      <td>85710.0</td>\n",
       "      <td>87382.675439</td>\n",
       "    </tr>\n",
       "    <tr>\n",
       "      <th>17-05-2020</th>\n",
       "      <td>90637.0</td>\n",
       "      <td>92519.298838</td>\n",
       "    </tr>\n",
       "    <tr>\n",
       "      <th>18-05-2020</th>\n",
       "      <td>95759.0</td>\n",
       "      <td>97916.119432</td>\n",
       "    </tr>\n",
       "    <tr>\n",
       "      <th>19-05-2020</th>\n",
       "      <td>100325.0</td>\n",
       "      <td>103546.342085</td>\n",
       "    </tr>\n",
       "    <tr>\n",
       "      <th>20-05-2020</th>\n",
       "      <td>106750.0</td>\n",
       "      <td>109407.170118</td>\n",
       "    </tr>\n",
       "    <tr>\n",
       "      <th>21-05-2020</th>\n",
       "      <td>112359.0</td>\n",
       "      <td>115486.080292</td>\n",
       "    </tr>\n",
       "    <tr>\n",
       "      <th>22-05-2020</th>\n",
       "      <td>118447.0</td>\n",
       "      <td>121763.407534</td>\n",
       "    </tr>\n",
       "    <tr>\n",
       "      <th>23-05-2020</th>\n",
       "      <td>125101.0</td>\n",
       "      <td>128209.041906</td>\n",
       "    </tr>\n",
       "    <tr>\n",
       "      <th>24-05-2020</th>\n",
       "      <td>131868.0</td>\n",
       "      <td>134787.386092</td>\n",
       "    </tr>\n",
       "    <tr>\n",
       "      <th>25-05-2020</th>\n",
       "      <td>138845.0</td>\n",
       "      <td>141459.887124</td>\n",
       "    </tr>\n",
       "    <tr>\n",
       "      <th>26-05-2020</th>\n",
       "      <td>NaN</td>\n",
       "      <td>148181.327108</td>\n",
       "    </tr>\n",
       "    <tr>\n",
       "      <th>27-05-2020</th>\n",
       "      <td>NaN</td>\n",
       "      <td>154901.789726</td>\n",
       "    </tr>\n",
       "    <tr>\n",
       "      <th>28-05-2020</th>\n",
       "      <td>NaN</td>\n",
       "      <td>161568.308807</td>\n",
       "    </tr>\n",
       "    <tr>\n",
       "      <th>29-05-2020</th>\n",
       "      <td>NaN</td>\n",
       "      <td>168127.223428</td>\n",
       "    </tr>\n",
       "    <tr>\n",
       "      <th>30-05-2020</th>\n",
       "      <td>NaN</td>\n",
       "      <td>174526.097315</td>\n",
       "    </tr>\n",
       "    <tr>\n",
       "      <th>31-05-2020</th>\n",
       "      <td>NaN</td>\n",
       "      <td>180715.273212</td>\n",
       "    </tr>\n",
       "    <tr>\n",
       "      <th>01-06-2020</th>\n",
       "      <td>NaN</td>\n",
       "      <td>186649.992467</td>\n",
       "    </tr>\n",
       "    <tr>\n",
       "      <th>02-06-2020</th>\n",
       "      <td>NaN</td>\n",
       "      <td>192292.043603</td>\n",
       "    </tr>\n",
       "    <tr>\n",
       "      <th>03-06-2020</th>\n",
       "      <td>NaN</td>\n",
       "      <td>197610.928093</td>\n",
       "    </tr>\n",
       "    <tr>\n",
       "      <th>04-06-2020</th>\n",
       "      <td>NaN</td>\n",
       "      <td>202584.496232</td>\n",
       "    </tr>\n",
       "    <tr>\n",
       "      <th>05-06-2020</th>\n",
       "      <td>NaN</td>\n",
       "      <td>207199.029571</td>\n",
       "    </tr>\n",
       "    <tr>\n",
       "      <th>06-06-2020</th>\n",
       "      <td>NaN</td>\n",
       "      <td>211448.852321</td>\n",
       "    </tr>\n",
       "    <tr>\n",
       "      <th>07-06-2020</th>\n",
       "      <td>NaN</td>\n",
       "      <td>215335.801459</td>\n",
       "    </tr>\n",
       "  </tbody>\n",
       "</table>\n",
       "</div>"
      ],
      "text/plain": [
       "            confirmed  confirmed_predicted\n",
       "07-05-2020    52952.0         51386.539914\n",
       "08-05-2020    56342.0         54758.635033\n",
       "09-05-2020    59662.0         58193.758482\n",
       "10-05-2020    62939.0         61784.765914\n",
       "11-05-2020    67152.0         65395.055718\n",
       "12-05-2020    70756.0         69243.787492\n",
       "13-05-2020    74281.0         73463.282459\n",
       "14-05-2020    78003.0         77875.801316\n",
       "15-05-2020    81970.0         82511.642411\n",
       "16-05-2020    85710.0         87382.675439\n",
       "17-05-2020    90637.0         92519.298838\n",
       "18-05-2020    95759.0         97916.119432\n",
       "19-05-2020   100325.0        103546.342085\n",
       "20-05-2020   106750.0        109407.170118\n",
       "21-05-2020   112359.0        115486.080292\n",
       "22-05-2020   118447.0        121763.407534\n",
       "23-05-2020   125101.0        128209.041906\n",
       "24-05-2020   131868.0        134787.386092\n",
       "25-05-2020   138845.0        141459.887124\n",
       "26-05-2020        NaN        148181.327108\n",
       "27-05-2020        NaN        154901.789726\n",
       "28-05-2020        NaN        161568.308807\n",
       "29-05-2020        NaN        168127.223428\n",
       "30-05-2020        NaN        174526.097315\n",
       "31-05-2020        NaN        180715.273212\n",
       "01-06-2020        NaN        186649.992467\n",
       "02-06-2020        NaN        192292.043603\n",
       "03-06-2020        NaN        197610.928093\n",
       "04-06-2020        NaN        202584.496232\n",
       "05-06-2020        NaN        207199.029571\n",
       "06-06-2020        NaN        211448.852321\n",
       "07-06-2020        NaN        215335.801459"
      ]
     },
     "execution_count": 77,
     "metadata": {},
     "output_type": "execute_result"
    }
   ],
   "source": [
    "df_forecast = pd.DataFrame(index=time_series_array)\n",
    "df_forecast.loc[:,\"confirmed\"] = test\n",
    "df_forecast[\"confirmed_predicted\"] = true_prediction[:,0]\n",
    "df_forecast"
   ]
  },
  {
   "cell_type": "code",
   "execution_count": 72,
   "metadata": {},
   "outputs": [
    {
     "data": {
      "text/plain": [
       "<matplotlib.axes._subplots.AxesSubplot at 0x24bb0c699c8>"
      ]
     },
     "execution_count": 72,
     "metadata": {},
     "output_type": "execute_result"
    },
    {
     "data": {
      "image/png": "[encoded data removed]",
      "text/plain": [
       "<Figure size 432x288 with 1 Axes>"
      ]
     },
     "metadata": {
      "needs_background": "light"
     },
     "output_type": "display_data"
    }
   ],
   "source": [
    "df_forecast.plot(title=\"India Predictions for next 7 days\")"
   ]
  },
  {
   "cell_type": "code",
   "execution_count": null,
   "metadata": {},
   "outputs": [],
   "source": []
  }
 ],
 "metadata": {
  "kernelspec": {
   "display_name": "Python 3",
   "language": "python",
   "name": "python3"
  },
  "language_info": {
   "codemirror_mode": {
    "name": "ipython",
    "version": 3
   },
   "file_extension": ".py",
   "mimetype": "text/x-python",
   "name": "python",
   "nbconvert_exporter": "python",
   "pygments_lexer": "ipython3",
   "version": "3.7.4"
  }
 },
 "nbformat": 4,
 "nbformat_minor": 2
}
